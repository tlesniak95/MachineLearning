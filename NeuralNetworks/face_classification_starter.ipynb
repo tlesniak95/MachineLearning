{
 "cells": [
  {
   "cell_type": "code",
   "execution_count": 1,
   "metadata": {
    "scrolled": true
   },
   "outputs": [],
   "source": [
    "import numpy as np\n",
    "import matplotlib.pyplot as plt\n",
    "from scipy.io import loadmat\n",
    "dataset = loadmat('face_emotion_data.mat')\n",
    "\n",
    "X, y = dataset['X'], dataset['y']\n",
    "n, p = np.shape(X)\n",
    "\n",
    "y[y==-1] = 0  # use 0/1 for labels instead of -1/+1\n",
    "X = np.hstack((np.ones((n,1)), X))  # append a column of ones"
   ]
  },
  {
   "cell_type": "code",
   "execution_count": 2,
   "metadata": {},
   "outputs": [],
   "source": [
    "def logsig(_x):\n",
    "    return 1/(1+np.exp(-_x))\n",
    "\n",
    "\n",
    "\n",
    "def train():\n",
    "\n",
    "\n",
    "    ## Train NN\n",
    "    Xb = X\n",
    "    Y = y\n",
    "    q = 1 #number of classification problems\n",
    "    n,p = np.shape(Xb)\n",
    "\n",
    "    ## initial weights\n",
    "    V = np.random.randn(M+1, q); \n",
    "    W = np.random.randn(p, M);\n",
    "    \n",
    "    error = []\n",
    "    \n",
    "    for epoch in range(L):\n",
    "        ind = np.random.permutation(n)\n",
    "        for i in ind:\n",
    "            # Forward-propagate\n",
    "            H = logsig(np.hstack((np.ones((1,1)), Xb[[i],:]@W)))\n",
    "            Yhat = logsig(H@V)\n",
    "             # Backpropagate\n",
    "            delta = (Yhat-Y[[i],:])*Yhat*(1-Yhat)\n",
    "            Vnew = V-alpha*H.T@delta\n",
    "            gamma = delta@V[1:,:].T*H[:,1:]*(1-H[:,1:])\n",
    "            Wnew = W - alpha*Xb[[i],:].T@gamma\n",
    "            V = Vnew\n",
    "            W = Wnew\n",
    "\n",
    "        ##\n",
    "        ## Final predicted labels (on training data)\n",
    "        H = logsig(np.hstack((np.ones((n,1)), Xb@W)))\n",
    "        Yhat = logsig(H@V)\n",
    "        error.append(np.mean(abs(np.round(Yhat[:,0])-Y[:,0])))\n",
    "        \n",
    "    return(W, V, error)\n",
    "\n",
    "\n",
    "def trainNNCrossValidation():\n",
    "    crossValidationError = []\n",
    "    \n",
    "    for n in range(8):\n",
    "        test_index = np.arange(n*16, (n+1)*16)\n",
    "        train_index = np.setdiff1d(np.arange(128), test_index)\n",
    "        X_train = X[train_index]\n",
    "        X_test = X[test_index]\n",
    "        y_train = y[train_index]\n",
    "        y_test = y[test_index]\n",
    "        \n",
    "        print(X_train.shape)\n",
    "        \n",
    "        \n",
    "        ## Train NN\n",
    "        q = np.shape(y_train)[1] #number of classification problems\n",
    "        M = 32 #number of hidden nodes\n",
    "        \n",
    "        zero_epoch = None\n",
    "        \n",
    "        ## initial weights\n",
    "        V = np.random.randn(M+1, q); \n",
    "        W = np.random.randn(p+1, M);\n",
    "        \n",
    "        print(W.shape)\n",
    "\n",
    "        alpha = 0.5 #step size\n",
    "        L = 108 #number of epochs\n",
    "        \n",
    "        trainError = []\n",
    "\n",
    "        def logsig(_x):\n",
    "            return 1/(1+np.exp(-_x))\n",
    "        \n",
    "        for epoch in range(L):\n",
    "            ind = np.random.permutation(n)\n",
    "            for i in ind:\n",
    "                # Forward-propagate\n",
    "                H = logsig(np.hstack((np.ones((1,1)), X_train[[i],:]@W)))\n",
    "                Yhat = logsig(H@V)\n",
    "                 # Backpropagate\n",
    "                delta = (Yhat-y_train[[i],:])*Yhat*(1-Yhat)\n",
    "                Vnew = V-alpha*H.T@delta\n",
    "                gamma = delta@V[1:,:].T*H[:,1:]*(1-H[:,1:])\n",
    "                Wnew = W - alpha*Xb[[i],:].T@gamma\n",
    "                V = Vnew\n",
    "                W = Wnew\n",
    "                \n",
    "            ## Final predicted labels (on training data)\n",
    "            H = logsig(np.hstack((np.ones((n,1)), X_train@W)))\n",
    "            Yhat = logsig(H@V)\n",
    "            trainError.append(np.mean(abs(np.round(Yhat[:,0])-y_train[:,0])))\n",
    "            \n",
    "            if not trainError[-1] and not zero_epoch:\n",
    "                zero_epoch = epoch\n",
    "                \n",
    "        test_n, test_p = np.shape(X_test)\n",
    "        \n",
    "        H = logsig(np.hstack((np.ones((n,1)), X_test@W)))\n",
    "        Yhat = logsig(H@V)\n",
    "        crossValidationError.append(np.mean(abs(np.round(Yhat[:,0])-y_test[:,0])))\n",
    "        \n",
    "    return crossValidationError\n",
    "        \n",
    "\n",
    "\n",
    "        \n",
    "                \n"
   ]
  },
  {
   "cell_type": "code",
   "execution_count": 3,
   "metadata": {},
   "outputs": [
    {
     "data": {
      "text/plain": [
       "Text(0.5, 0, 'Epochs')"
      ]
     },
     "execution_count": 3,
     "metadata": {},
     "output_type": "execute_result"
    },
    {
     "data": {
      "image/png": "[encoded data removed]",
      "text/plain": [
       "<Figure size 432x288 with 1 Axes>"
      ]
     },
     "metadata": {
      "needs_background": "light"
     },
     "output_type": "display_data"
    }
   ],
   "source": [
    "alpha = .05\n",
    "L = 108\n",
    "M = 32\n",
    "\n",
    "\n",
    "for i in range(20):\n",
    "    w,v,error = train()\n",
    "    \n",
    "    plt.plot(error)\n",
    "    \n",
    "plt.ylabel(\"error\")\n",
    "plt.xlabel(\"Epochs\")\n",
    "\n",
    "   "
   ]
  },
  {
   "cell_type": "markdown",
   "metadata": {},
   "source": [
    "Although the classifier does achieve 0% training error, the number epochs required to do so varies from iteration to iteration due to the randomized permutation. "
   ]
  },
  {
   "cell_type": "code",
   "execution_count": null,
   "metadata": {},
   "outputs": [],
   "source": []
  },
  {
   "cell_type": "code",
   "execution_count": null,
   "metadata": {},
   "outputs": [],
   "source": []
  }
 ],
 "metadata": {
  "kernelspec": {
   "display_name": "Python 3 (ipykernel)",
   "language": "python",
   "name": "python3"
  },
  "language_info": {
   "codemirror_mode": {
    "name": "ipython",
    "version": 3
   },
   "file_extension": ".py",
   "mimetype": "text/x-python",
   "name": "python",
   "nbconvert_exporter": "python",
   "pygments_lexer": "ipython3",
   "version": "3.9.12"
  }
 },
 "nbformat": 4,
 "nbformat_minor": 2
}
