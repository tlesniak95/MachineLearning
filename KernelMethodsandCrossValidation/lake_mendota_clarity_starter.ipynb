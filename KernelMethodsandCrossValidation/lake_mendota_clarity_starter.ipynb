{
 "cells": [
  {
   "cell_type": "code",
   "execution_count": 1,
   "metadata": {},
   "outputs": [],
   "source": [
    "import matplotlib.pyplot as plt\n",
    "import numpy as np\n",
    "import pandas as pd\n",
    "\n",
    "df = pd.read_csv('mendota_secchi_depth.txt', delimiter='\\t')\n",
    "x = df['day_of_year']\n",
    "y = df['secchi_depth']"
   ]
  },
  {
   "cell_type": "code",
   "execution_count": 2,
   "metadata": {},
   "outputs": [],
   "source": [
    "#shape into 1 column and n rows\n",
    "x = np.array(x).reshape(-1, 1)\n",
    "y = np.array(y).reshape(-1,1)\n"
   ]
  },
  {
   "cell_type": "code",
   "execution_count": 3,
   "metadata": {},
   "outputs": [],
   "source": [
    "def kernel(X_test, X, sigma):\n",
    "    n,p = X_test.shape\n",
    "    K = np.exp(\n",
    "        -np.sum(\n",
    "            (X - X_test.reshape(n, 1, p)) ** 2,\n",
    "            axis = 2\n",
    "        ) / (2 * sigma ** 2)\n",
    "    )\n",
    "    \n",
    "    return K\n",
    "    "
   ]
  },
  {
   "cell_type": "code",
   "execution_count": 4,
   "metadata": {},
   "outputs": [],
   "source": [
    "def getAlpha(K, y):\n",
    "    lam = 0.4\n",
    "    n1, p1 = K.shape\n",
    "    \n",
    "    alpha = np.linalg.inv(K+lam*np.eye(n1,p1))@y\n",
    "    \n",
    "    return alpha"
   ]
  },
  {
   "cell_type": "code",
   "execution_count": 27,
   "metadata": {},
   "outputs": [],
   "source": [
    "x_test = np.arange(40, 350).reshape(-1,1)\n",
    "\n",
    "K = kernel(x, x, 10)\n",
    "alpha = getAlpha(K, y)\n",
    "K1 = kernel(x, x_test, 10)\n",
    "yhat = alpha.T @ K1\n",
    "yhat = yhat.T"
   ]
  },
  {
   "cell_type": "code",
   "execution_count": 30,
   "metadata": {},
   "outputs": [
    {
     "data": {
      "text/plain": [
       "[<matplotlib.lines.Line2D at 0x1de2626e220>]"
      ]
     },
     "execution_count": 30,
     "metadata": {},
     "output_type": "execute_result"
    },
    {
     "data": {
      "image/png": "[encoded data removed]",
      "text/plain": [
       "<Figure size 432x288 with 1 Axes>"
      ]
     },
     "metadata": {
      "needs_background": "light"
     },
     "output_type": "display_data"
    }
   ],
   "source": [
    "plt.scatter(x,y)\n",
    "plt.plot(x_test, yhat)"
   ]
  },
  {
   "cell_type": "markdown",
   "metadata": {},
   "source": [
    "Lambda of .4 provides the best fit"
   ]
  },
  {
   "cell_type": "markdown",
   "metadata": {},
   "source": [
    "#2b You can iterate through the lambdas and the sigma values, computing the error and then deciding which combination produces the least error"
   ]
  },
  {
   "cell_type": "code",
   "execution_count": null,
   "metadata": {},
   "outputs": [],
   "source": []
  }
 ],
 "metadata": {
  "kernelspec": {
   "display_name": "Python 3 (ipykernel)",
   "language": "python",
   "name": "python3"
  },
  "language_info": {
   "codemirror_mode": {
    "name": "ipython",
    "version": 3
   },
   "file_extension": ".py",
   "mimetype": "text/x-python",
   "name": "python",
   "nbconvert_exporter": "python",
   "pygments_lexer": "ipython3",
   "version": "3.9.12"
  }
 },
 "nbformat": 4,
 "nbformat_minor": 2
}
