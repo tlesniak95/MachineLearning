{
 "cells": [
  {
   "cell_type": "code",
   "execution_count": 1,
   "metadata": {},
   "outputs": [
    {
     "name": "stdout",
     "output_type": "stream",
     "text": [
      "[[1.54273372e-04 1.17896722e-04 1.17896722e-04 ... 9.39125862e-06\n",
      "  1.05462982e-04 1.17896722e-04]\n",
      " [1.54273372e-04 1.17896722e-04 1.17896722e-04 ... 9.39125862e-06\n",
      "  1.05462982e-04 1.17896722e-04]\n",
      " [1.54273372e-04 1.17896722e-04 1.17896722e-04 ... 9.39125862e-06\n",
      "  1.05462982e-04 1.17896722e-04]\n",
      " ...\n",
      " [1.54273372e-04 1.17896722e-04 1.17896722e-04 ... 9.39125862e-06\n",
      "  1.05462982e-04 1.17896722e-04]\n",
      " [1.54273372e-04 1.17896722e-04 1.17896722e-04 ... 9.39125862e-06\n",
      "  1.05462982e-04 1.17896722e-04]\n",
      " [1.54273372e-04 1.17896722e-04 1.17896722e-04 ... 9.39125862e-06\n",
      "  1.05462982e-04 1.17896722e-04]]\n"
     ]
    }
   ],
   "source": [
    "import numpy as np\n",
    "from scipy.sparse import csc_matrix\n",
    "from scipy.sparse.linalg import eigs\n",
    "\n",
    "edges_file = open('wisconsin_edges.csv', \"r\")\n",
    "nodes_file = open('wisconsin_nodes.csv', \"r\")\n",
    "\n",
    "# create a dictionary where nodes_dict[i] = name of wikipedia page\n",
    "nodes_dict = {}\n",
    "for line in nodes_file:\n",
    "    nodes_dict[int(line.split(',',1)[0].strip())] = line.split(',',1)[1].strip()\n",
    "\n",
    "node_count = len(nodes_dict)\n",
    "\n",
    "# create adjacency matrix\n",
    "A = np.zeros((node_count, node_count))\n",
    "for line in edges_file:\n",
    "    from_node = int(line.split(',')[0].strip())\n",
    "    to_node = int(line.split(',')[1].strip())\n",
    "    A[to_node, from_node] = 1.0\n",
    "    \n",
    "\n",
    "\n",
    "\n",
    "\n",
    "## Add code below to (1) prevent traps and (2) find the most important pages     \n",
    "# Hint -- instead of computing the entire eigen-decomposition of a matrix X using\n",
    "A += .001\n",
    "A = A / A.sum(axis=0, keepdims=True)\n",
    "#s, E = np.linalg.eig(A)\n",
    "# you can compute just the first eigenvector with:\n",
    "s, E = eigs(csc_matrix(A), k = 1)\n",
    "print(A)\n",
    "\n"
   ]
  },
  {
   "cell_type": "code",
   "execution_count": 2,
   "metadata": {},
   "outputs": [],
   "source": [
    "rankings = np.argsort(np.abs(E.reshape(-1)))"
   ]
  },
  {
   "cell_type": "code",
   "execution_count": 3,
   "metadata": {},
   "outputs": [
    {
     "data": {
      "text/plain": [
       "'\"Wisconsin\"'"
      ]
     },
     "execution_count": 3,
     "metadata": {},
     "output_type": "execute_result"
    }
   ],
   "source": [
    "nodes_dict[rankings[-1]]"
   ]
  },
  {
   "cell_type": "code",
   "execution_count": 4,
   "metadata": {},
   "outputs": [
    {
     "data": {
      "text/plain": [
       "'\"Madison, Wisconsin\"'"
      ]
     },
     "execution_count": 4,
     "metadata": {},
     "output_type": "execute_result"
    }
   ],
   "source": [
    "nodes_dict[rankings[-3]]"
   ]
  }
 ],
 "metadata": {
  "kernelspec": {
   "display_name": "Python 3 (ipykernel)",
   "language": "python",
   "name": "python3"
  },
  "language_info": {
   "codemirror_mode": {
    "name": "ipython",
    "version": 3
   },
   "file_extension": ".py",
   "mimetype": "text/x-python",
   "name": "python",
   "nbconvert_exporter": "python",
   "pygments_lexer": "ipython3",
   "version": "3.9.12"
  }
 },
 "nbformat": 4,
 "nbformat_minor": 2
}
