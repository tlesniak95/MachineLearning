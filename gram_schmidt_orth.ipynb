{
 "cells": [
  {
   "cell_type": "markdown",
   "metadata": {},
   "source": []
  },
  {
   "cell_type": "code",
   "execution_count": 1,
   "metadata": {},
   "outputs": [
    {
     "name": "stdout",
     "output_type": "stream",
     "text": [
      "['__header__', '__version__', '__globals__', 'X']\n"
     ]
    }
   ],
   "source": [
    "import numpy as np\n",
    "from scipy.io import loadmat\n",
    "import matplotlib.pyplot as plt \n",
    "\n",
    "in_data = loadmat('movie.mat')\n",
    "print([key for key in in_data]) # -- use this line to see the keys in the dictionary data structure"
   ]
  },
  {
   "cell_type": "code",
   "execution_count": 2,
   "metadata": {},
   "outputs": [
    {
     "name": "stdout",
     "output_type": "stream",
     "text": [
      "[[ 0.33333333  0.         -0.2981424 ]\n",
      " [ 0.66666667  0.         -0.59628479]\n",
      " [ 0.66666667  0.          0.74535599]]\n",
      "[[1.00000000e+00 3.88578059e-16 0.00000000e+00 0.00000000e+00\n",
      "  0.00000000e+00]\n",
      " [3.88578059e-16 1.00000000e+00 0.00000000e+00 0.00000000e+00\n",
      "  0.00000000e+00]\n",
      " [0.00000000e+00 0.00000000e+00 0.00000000e+00 0.00000000e+00\n",
      "  0.00000000e+00]\n",
      " [0.00000000e+00 0.00000000e+00 0.00000000e+00 0.00000000e+00\n",
      "  0.00000000e+00]\n",
      " [0.00000000e+00 0.00000000e+00 0.00000000e+00 0.00000000e+00\n",
      "  0.00000000e+00]]\n"
     ]
    }
   ],
   "source": [
    "\n",
    "def gram_schmidt(B):\n",
    "    \"\"\"Orthogonalize a set of vectors stored as the columns of matrix B.\"\"\"\n",
    "    # Get the number of vectors.\n",
    "    m, n = B.shape\n",
    "    # Create new matrix to hold the orthonormal basis\n",
    "    U = np.zeros([m,n]) \n",
    "    for j in range(n):\n",
    "        # To orthogonalize the vector in column j with respect to the\n",
    "        # previous vectors, subtract from it its projection onto\n",
    "        # each of the previous vectors.\n",
    "        v = B[:,j].copy()\n",
    "        for k in range(j):\n",
    "            v -= np.dot(U[:, k], B[:, j]) * U[:, k]\n",
    "        if np.linalg.norm(v)>1e-10:\n",
    "            U[:, j] = v / np.linalg.norm(v)\n",
    "    return U\n",
    "\n",
    "if __name__ == '__main__':\n",
    "    B1 = np.array([[1.0, 1.0, 0.0], [2.0, 2.0, 0.0], [2.0, 2.0, 1.0]])\n",
    "    A1 = gram_schmidt(B1)\n",
    "    print(A1)\n",
    "    A2 = gram_schmidt(np.random.rand(4,2)@np.random.rand(2,5))\n",
    "    print(A2.transpose()@A2)"
   ]
  },
  {
   "cell_type": "code",
   "execution_count": 3,
   "metadata": {},
   "outputs": [
    {
     "data": {
      "text/plain": [
       "array([[ 4.47213595e-01, -3.65148372e-01, -6.32455532e-01,\n",
       "        -5.16397779e-01,  0.00000000e+00,  0.00000000e+00,\n",
       "         0.00000000e+00,  1.26565425e-14],\n",
       "       [ 4.47213595e-01,  5.47722558e-01,  3.16227766e-01,\n",
       "        -3.87298335e-01,  0.00000000e+00,  0.00000000e+00,\n",
       "         0.00000000e+00,  5.00000000e-01],\n",
       "       [ 4.47213595e-01, -3.65148372e-01,  2.80866677e-16,\n",
       "         6.45497224e-01,  0.00000000e+00,  0.00000000e+00,\n",
       "         0.00000000e+00,  5.00000000e-01],\n",
       "       [ 4.47213595e-01,  5.47722558e-01, -3.16227766e-01,\n",
       "         3.87298335e-01,  0.00000000e+00,  0.00000000e+00,\n",
       "         0.00000000e+00, -5.00000000e-01],\n",
       "       [ 4.47213595e-01, -3.65148372e-01,  6.32455532e-01,\n",
       "        -1.29099445e-01,  0.00000000e+00,  0.00000000e+00,\n",
       "         0.00000000e+00, -5.00000000e-01]])"
      ]
     },
     "execution_count": 3,
     "metadata": {},
     "output_type": "execute_result"
    }
   ],
   "source": [
    "x = in_data['X']\n",
    "\n",
    "x_aug = np.hstack((np.ones((5,1)), x))\n",
    "\n",
    "T = gram_schmidt(x_aug)\n",
    "T"
   ]
  },
  {
   "cell_type": "markdown",
   "metadata": {},
   "source": [
    "# 3a) yes ! the first basis vector you obtain equal to t1"
   ]
  },
  {
   "cell_type": "code",
   "execution_count": 4,
   "metadata": {},
   "outputs": [
    {
     "data": {
      "text/plain": [
       "array([0.4472136, 0.4472136, 0.4472136, 0.4472136, 0.4472136])"
      ]
     },
     "execution_count": 4,
     "metadata": {},
     "output_type": "execute_result"
    }
   ],
   "source": [
    "t1 = T[:,0]\n",
    "t1\n"
   ]
  },
  {
   "cell_type": "code",
   "execution_count": 5,
   "metadata": {},
   "outputs": [
    {
     "data": {
      "text/plain": [
       "array([[ 4,  7,  2,  8,  7,  4,  2],\n",
       "       [ 9,  3,  5,  6, 10,  5,  5],\n",
       "       [ 4,  8,  3,  7,  6,  4,  1],\n",
       "       [ 9,  2,  6,  5,  9,  5,  4],\n",
       "       [ 4,  9,  2,  8,  7,  4,  1]], dtype=uint8)"
      ]
     },
     "execution_count": 5,
     "metadata": {},
     "output_type": "execute_result"
    }
   ],
   "source": [
    "x"
   ]
  },
  {
   "cell_type": "markdown",
   "metadata": {},
   "source": [
    "# 3b finding the Rank 1 Approximation by t1 transpose * x"
   ]
  },
  {
   "cell_type": "code",
   "execution_count": 6,
   "metadata": {},
   "outputs": [
    {
     "name": "stdout",
     "output_type": "stream",
     "text": [
      "W is \n",
      "[13.41640786 12.96919427  8.04984472 15.20526225 17.44133022  9.8386991\n",
      "  5.81377674]\n"
     ]
    }
   ],
   "source": [
    "\n",
    "w = t1 @ x\n",
    "print(\"W is \")\n",
    "print(w)"
   ]
  },
  {
   "cell_type": "code",
   "execution_count": 7,
   "metadata": {},
   "outputs": [
    {
     "name": "stdout",
     "output_type": "stream",
     "text": [
      "the residual error is\n",
      "[[-2.   1.2 -1.6  1.2 -0.8 -0.4 -0.6]\n",
      " [ 3.  -2.8  1.4 -0.8  2.2  0.6  2.4]\n",
      " [-2.   2.2 -0.6  0.2 -1.8 -0.4 -1.6]\n",
      " [ 3.  -3.8  2.4 -1.8  1.2  0.6  1.4]\n",
      " [-2.   3.2 -1.6  1.2 -0.8 -0.4 -1.6]]\n"
     ]
    }
   ],
   "source": [
    "residual = x - np.outer(t1, w.T)\n",
    "print(\"the residual error is\")\n",
    "print(residual)"
   ]
  },
  {
   "cell_type": "markdown",
   "metadata": {},
   "source": [
    "### 3c"
   ]
  },
  {
   "cell_type": "code",
   "execution_count": 8,
   "metadata": {},
   "outputs": [
    {
     "data": {
      "text/plain": [
       "array([[ 0.4472136 , -0.36514837],\n",
       "       [ 0.4472136 ,  0.54772256],\n",
       "       [ 0.4472136 , -0.36514837],\n",
       "       [ 0.4472136 ,  0.54772256],\n",
       "       [ 0.4472136 , -0.36514837]])"
      ]
     },
     "execution_count": 8,
     "metadata": {},
     "output_type": "execute_result"
    }
   ],
   "source": [
    "t2 = T[:, [0,1]]\n",
    "t2\n"
   ]
  },
  {
   "cell_type": "markdown",
   "metadata": {},
   "source": [
    "# w is"
   ]
  },
  {
   "cell_type": "code",
   "execution_count": 9,
   "metadata": {},
   "outputs": [
    {
     "data": {
      "text/plain": [
       "array([[13.41640786,  5.47722558],\n",
       "       [12.96919427, -6.02494813],\n",
       "       [ 8.04984472,  3.46890953],\n",
       "       [15.20526225, -2.37346442],\n",
       "       [17.44133022,  3.10376116],\n",
       "       [ 9.8386991 ,  1.09544512],\n",
       "       [ 5.81377674,  3.46890953]])"
      ]
     },
     "execution_count": 9,
     "metadata": {},
     "output_type": "execute_result"
    }
   ],
   "source": [
    "w2 = x.T @ t2\n",
    "w2\n"
   ]
  },
  {
   "cell_type": "code",
   "execution_count": 10,
   "metadata": {},
   "outputs": [
    {
     "name": "stdout",
     "output_type": "stream",
     "text": [
      "(5, 2)\n",
      "(7, 2)\n"
     ]
    }
   ],
   "source": [
    "print(t2.shape)\n",
    "print(w2.shape)"
   ]
  },
  {
   "cell_type": "markdown",
   "metadata": {},
   "source": [
    "\n",
    "\n",
    "# the residual error is "
   ]
  },
  {
   "cell_type": "code",
   "execution_count": 11,
   "metadata": {},
   "outputs": [
    {
     "data": {
      "text/plain": [
       "array([[ 4.44089210e-16, -1.00000000e+00, -3.33333333e-01,\n",
       "         3.33333333e-01,  3.33333333e-01,  4.44089210e-16,\n",
       "         6.66666667e-01],\n",
       "       [ 1.77635684e-15,  5.00000000e-01, -5.00000000e-01,\n",
       "         5.00000000e-01,  5.00000000e-01,  8.88178420e-16,\n",
       "         5.00000000e-01],\n",
       "       [ 4.44089210e-16,  0.00000000e+00,  6.66666667e-01,\n",
       "        -6.66666667e-01, -6.66666667e-01,  4.44089210e-16,\n",
       "        -3.33333333e-01],\n",
       "       [ 1.77635684e-15, -5.00000000e-01,  5.00000000e-01,\n",
       "        -5.00000000e-01, -5.00000000e-01,  8.88178420e-16,\n",
       "        -5.00000000e-01],\n",
       "       [ 4.44089210e-16,  1.00000000e+00, -3.33333333e-01,\n",
       "         3.33333333e-01,  3.33333333e-01,  4.44089210e-16,\n",
       "        -3.33333333e-01]])"
      ]
     },
     "execution_count": 11,
     "metadata": {},
     "output_type": "execute_result"
    }
   ],
   "source": [
    "residual = x - t2@w2.T\n",
    "residual"
   ]
  },
  {
   "cell_type": "code",
   "execution_count": 12,
   "metadata": {},
   "outputs": [
    {
     "name": "stdout",
     "output_type": "stream",
     "text": [
      "[[4.         8.         2.33333333 7.66666667 6.66666667 4.\n",
      "  1.33333333]\n",
      " [9.         2.5        5.5        5.5        9.5        5.\n",
      "  4.5       ]\n",
      " [4.         8.         2.33333333 7.66666667 6.66666667 4.\n",
      "  1.33333333]\n",
      " [9.         2.5        5.5        5.5        9.5        5.\n",
      "  4.5       ]\n",
      " [4.         8.         2.33333333 7.66666667 6.66666667 4.\n",
      "  1.33333333]]\n"
     ]
    }
   ],
   "source": [
    "\n",
    "print(t2@w2.T)"
   ]
  },
  {
   "cell_type": "markdown",
   "metadata": {},
   "source": [
    "# 3c"
   ]
  },
  {
   "cell_type": "markdown",
   "metadata": {},
   "source": [
    "### 3c) t2 seems to be the contributing taste vector to the preference of Sci fi movies vs Romantic. Those with a preference for the scifi movies have a higher number in row 1 3 and 5"
   ]
  },
  {
   "cell_type": "markdown",
   "metadata": {},
   "source": [
    " ## 3d The more I have been increasing the rank the smaller the residual value"
   ]
  },
  {
   "cell_type": "code",
   "execution_count": 13,
   "metadata": {},
   "outputs": [
    {
     "data": {
      "text/plain": [
       "array([[ 4.47213595e-01, -3.65148372e-01, -6.32455532e-01],\n",
       "       [ 4.47213595e-01,  5.47722558e-01,  3.16227766e-01],\n",
       "       [ 4.47213595e-01, -3.65148372e-01,  2.80866677e-16],\n",
       "       [ 4.47213595e-01,  5.47722558e-01, -3.16227766e-01],\n",
       "       [ 4.47213595e-01, -3.65148372e-01,  6.32455532e-01]])"
      ]
     },
     "execution_count": 13,
     "metadata": {},
     "output_type": "execute_result"
    }
   ],
   "source": [
    "t3 = T[:, :3]\n",
    "t3"
   ]
  },
  {
   "cell_type": "code",
   "execution_count": 14,
   "metadata": {},
   "outputs": [
    {
     "data": {
      "text/plain": [
       "array([[13.416,  5.477,  0.   ],\n",
       "       [12.969, -6.025,  1.581],\n",
       "       [ 8.05 ,  3.469, -0.316],\n",
       "       [15.205, -2.373,  0.316],\n",
       "       [17.441,  3.104,  0.316],\n",
       "       [ 9.839,  1.095,  0.   ],\n",
       "       [ 5.814,  3.469, -0.316]])"
      ]
     },
     "execution_count": 14,
     "metadata": {},
     "output_type": "execute_result"
    }
   ],
   "source": [
    "np.set_printoptions(precision=3, suppress=True)\n",
    "w3 = x.T @ t3\n",
    "w3\n"
   ]
  },
  {
   "cell_type": "code",
   "execution_count": 15,
   "metadata": {},
   "outputs": [
    {
     "data": {
      "text/plain": [
       "array([[ 0.   ,  0.   , -0.533,  0.533,  0.533,  0.   ,  0.467],\n",
       "       [ 0.   , -0.   , -0.4  ,  0.4  ,  0.4  ,  0.   ,  0.6  ],\n",
       "       [ 0.   ,  0.   ,  0.667, -0.667, -0.667,  0.   , -0.333],\n",
       "       [ 0.   ,  0.   ,  0.4  , -0.4  , -0.4  ,  0.   , -0.6  ],\n",
       "       [-0.   , -0.   , -0.133,  0.133,  0.133, -0.   , -0.133]])"
      ]
     },
     "execution_count": 15,
     "metadata": {},
     "output_type": "execute_result"
    }
   ],
   "source": [
    "residual = x - t3@w3.T\n",
    "residual"
   ]
  }
 ],
 "metadata": {
  "kernelspec": {
   "display_name": "Python 3 (ipykernel)",
   "language": "python",
   "name": "python3"
  },
  "language_info": {
   "codemirror_mode": {
    "name": "ipython",
    "version": 3
   },
   "file_extension": ".py",
   "mimetype": "text/x-python",
   "name": "python",
   "nbconvert_exporter": "python",
   "pygments_lexer": "ipython3",
   "version": "3.9.12"
  }
 },
 "nbformat": 4,
 "nbformat_minor": 2
}
